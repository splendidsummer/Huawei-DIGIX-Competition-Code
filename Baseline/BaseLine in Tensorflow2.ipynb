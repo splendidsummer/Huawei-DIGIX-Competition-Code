{
 "cells": [
  {
   "cell_type": "code",
   "execution_count": 2,
   "metadata": {},
   "outputs": [],
   "source": [
    "from glob import glob\n",
    "import os\n",
    "import time\n",
    "from datetime import datetime \n",
    "import copy\n",
    "from tqdm import tqdm\n",
    "\n",
    "import tensorflow \n",
    "from  tensorflow import keras\n",
    "import tensorflow_hub as hub\n",
    "import tensorflow.keras as keras\n",
    "from tensorflow.keras.layers import *\n",
    "\n",
    "import matplotlib.pyplot as plt\n",
    "from sklearn.model_selection import train_test_split\n",
    "\n",
    "from PIL import ImageFile\n",
    "ImageFile.LOAD_TRUNCATED_IMAGES = True  # PIL.ImageFile 自定义参数 \n",
    "import cv2\n"
   ]
  },
  {
   "cell_type": "code",
   "execution_count": null,
   "metadata": {},
   "outputs": [],
   "source": [
    "IMG_SIZE = (512, 512)\n",
    "NUM_CLASSES = 3094\n",
    "model = hub.load('pytorch/vision:v0.6.0', 'resnet50', pretrained=False)\n",
    "num_ftrs = model.fc.in_features\n",
    "model.fc = nn.Linear(num_ftrs, NUM_CLASSES)\n",
    "model.load_state_dict(torch.load('models/resnet50_512_best.pth'))\n",
    "model.to(device)\n",
    "model.eval() "
   ]
  }
 ],
 "metadata": {
  "kernelspec": {
   "display_name": "Python 3",
   "language": "python",
   "name": "python3"
  },
  "language_info": {
   "codemirror_mode": {
    "name": "ipython",
    "version": 3
   },
   "file_extension": ".py",
   "mimetype": "text/x-python",
   "name": "python",
   "nbconvert_exporter": "python",
   "pygments_lexer": "ipython3",
   "version": "3.7.0"
  }
 },
 "nbformat": 4,
 "nbformat_minor": 4
}
